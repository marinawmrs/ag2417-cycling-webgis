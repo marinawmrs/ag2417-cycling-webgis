{
 "cells": [
  {
   "cell_type": "code",
   "execution_count": 66,
   "metadata": {},
   "outputs": [],
   "source": [
    "import geopandas as gpd\n",
    "from pathlib import Path\n",
    "from pyproj import CRS\n",
    "import shapely"
   ]
  },
  {
   "cell_type": "code",
   "execution_count": 77,
   "metadata": {},
   "outputs": [],
   "source": [
    "streets_fp = Path(\"../Data/NVDB/NVDB_Vagtrafiknat.shp\")        # your street network (SHP)\n",
    "streets = gpd.read_file(streets_fp)\n",
    "# streets = streets[[\"geometry\", \"Nättyp\"]].rename(columns={\"Nättyp\": \"Naettyp\"})\n",
    "\n",
    "bikes_fp   = Path(\"../Data/Cykelstrak_Linje.gpkg\")  # your bike network (GPKG)\n",
    "bikes   = gpd.read_file(bikes_fp)\n",
    "\n"
   ]
  },
  {
   "cell_type": "code",
   "execution_count": 70,
   "metadata": {},
   "outputs": [
    {
     "name": "stdout",
     "output_type": "stream",
     "text": [
      "Streets CRS: PROJCS[\"SWEREF99 18 00\",GEOGCS[\"SWEREF99\",DATUM[\"SWEREF99\",SPHEROID[\"GRS 1980\",6378137,298.257222101,AUTHORITY[\"EPSG\",\"7019\"]],TOWGS84[0,0,0,0,0,0,0],AUTHORITY[\"EPSG\",\"6619\"]],PRIMEM[\"Greenwich\",0,AUTHORITY[\"EPSG\",\"8901\"]],UNIT[\"degree\",0.0174532925199433]],PROJECTION[\"Transverse_Mercator\"],PARAMETER[\"central_meridian\",18],PARAMETER[\"latitude_of_origin\",0],PARAMETER[\"scale_factor\",1],PARAMETER[\"false_easting\",150000],PARAMETER[\"false_northing\",0],UNIT[\"m\",1],AXIS[\"Easting\",EAST],AXIS[\"Northing\",NORTH],AUTHORITY[\"EPSG\",\"3011\"]]\n",
      "Bikes   CRS: EPSG:3011\n",
      "Streets bounds: [ 102339.94985639 6390448.167       237112.56661416 6682532.421     ]\n",
      "Bikes   bounds: [ 117470.14952275 6531742.1483303   171942.10915987 6618472.71671621]\n"
     ]
    }
   ],
   "source": [
    "# --- 0) Quick sanity prints (run once) ---\n",
    "print(\"Streets CRS:\", streets.crs)\n",
    "print(\"Bikes   CRS:\", bikes.crs)\n",
    "print(\"Streets bounds:\", streets.total_bounds)  \n",
    "print(\"Bikes   bounds:\", bikes.total_bounds)\n",
    "\n",
    "\n",
    "# --- 1) Make valid + drop empties ---\n",
    "\n",
    "\n",
    "# --- 2) Force identical CRS token (EPSG:3011, meters) ---\n",
    "streets = streets.to_crs(3011) if streets.crs is None or streets.crs.to_epsg() != 3011 else streets.set_crs(3011, allow_override=True)\n",
    "bikes   = bikes.to_crs(3011)   if bikes.crs   is None or bikes.crs.to_epsg()   != 3011 else bikes.set_crs(3011, allow_override=True)\n"
   ]
  },
  {
   "cell_type": "code",
   "execution_count": 71,
   "metadata": {},
   "outputs": [
    {
     "name": "stdout",
     "output_type": "stream",
     "text": [
      "Streets CRS: EPSG:3011\n",
      "Bikes CRS: EPSG:3011\n",
      "Streets CRS: EPSG:3011\n",
      "Bikes CRS: EPSG:3011\n"
     ]
    }
   ],
   "source": [
    "print(\"Streets CRS:\",streets.crs)\n",
    "print(\"Bikes CRS:\", bikes.crs)\n",
    "\n",
    "streets = streets[~streets.geometry.is_empty & streets.geometry.notna()]\n",
    "bikes   = bikes[~bikes.geometry.is_empty & bikes.geometry.notna()]\n",
    "\n",
    "# Normalize CRS to the same EPSG token (no coordinate change if already 3011)\n",
    "crs3011 = CRS.from_epsg(3011)\n",
    "\n",
    "streets = streets.set_crs(crs3011, allow_override=True)\n",
    "bikes   = bikes.set_crs(crs3011, allow_override=True)\n",
    "\n",
    "print(\"Streets CRS:\",streets.crs)\n",
    "print(\"Bikes CRS:\", bikes.crs)\n",
    "\n"
   ]
  },
  {
   "cell_type": "code",
   "execution_count": 72,
   "metadata": {},
   "outputs": [
    {
     "name": "stderr",
     "output_type": "stream",
     "text": [
      "/opt/anaconda3/envs/myenv/lib/python3.12/site-packages/shapely/measurement.py:72: RuntimeWarning: overflow encountered in distance\n",
      "  return lib.distance(a, b, **kwargs)\n"
     ]
    }
   ],
   "source": [
    "# ==== BUFFER BIKE LINES (10 m) ====\n",
    "bike_buffer_m = 10\n",
    "# one corridor polygon for faster intersections\n",
    "bike_corridor = bikes.buffer(bike_buffer_m).unary_union\n",
    "\n",
    "# ==== 50% OVERLAP RULE ====\n",
    "def overlap_ratio(street_geom, corridor):\n",
    "    inter = street_geom.intersection(corridor)\n",
    "    # handle empty intersections and zero-length segments safely\n",
    "    L = max(street_geom.length, 1e-9)\n",
    "    return 0.0 if inter.is_empty else (inter.length / L)\n",
    "\n",
    "# optional quick prefilter so we don't compute intersections for far-away streets\n",
    "near_mask = streets.geometry.distance(bike_corridor) <= bike_buffer_m\n",
    "\n",
    "streets[\"Bike\"] = 0\n",
    "streets.loc[near_mask, \"Bike\"] = (\n",
    "    streets.loc[near_mask, \"geometry\"]\n",
    "           .apply(lambda g: 1 if overlap_ratio(g, bike_corridor) >= 0.5 else 0)\n",
    ").astype(int)\n"
   ]
  },
  {
   "cell_type": "code",
   "execution_count": 80,
   "metadata": {},
   "outputs": [
    {
     "name": "stdout",
     "output_type": "stream",
     "text": [
      "True     178891\n",
      "False     25908\n",
      "Name: count, dtype: int64\n"
     ]
    }
   ],
   "source": [
    "print(streets.geometry.apply(lambda g: g is not None and hasattr(g, \"has_z\") and g.has_z).value_counts())\n"
   ]
  },
  {
   "cell_type": "code",
   "execution_count": 74,
   "metadata": {},
   "outputs": [
    {
     "name": "stdout",
     "output_type": "stream",
     "text": [
      "Wrote /Users/leonardhaas/Documents/Studium/Kurse/Web_and_Mobile_GIS/04_Project/Data/Street_Network_categorized_final.shp with column 'Bike' (0/1).\n"
     ]
    }
   ],
   "source": [
    "#  change crs\n",
    "out_fp     = Path(\"../Data/Street_Network_categorized_final.shp\")\n",
    "streets.to_file(out_fp)\n",
    "print(f\"Wrote {out_fp.resolve()} with column 'Bike' (0/1).\")"
   ]
  },
  {
   "cell_type": "code",
   "execution_count": null,
   "metadata": {},
   "outputs": [],
   "source": []
  }
 ],
 "metadata": {
  "kernelspec": {
   "display_name": "Python (myenv)",
   "language": "python",
   "name": "myenv"
  },
  "language_info": {
   "codemirror_mode": {
    "name": "ipython",
    "version": 3
   },
   "file_extension": ".py",
   "mimetype": "text/x-python",
   "name": "python",
   "nbconvert_exporter": "python",
   "pygments_lexer": "ipython3",
   "version": "3.12.4"
  }
 },
 "nbformat": 4,
 "nbformat_minor": 2
}
